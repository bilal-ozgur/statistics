{
  "nbformat": 4,
  "nbformat_minor": 0,
  "metadata": {
    "colab": {
      "provenance": [],
      "authorship_tag": "ABX9TyNHEooeoU8MK99+y/78U/JT",
      "include_colab_link": true
    },
    "kernelspec": {
      "name": "python3",
      "display_name": "Python 3"
    },
    "language_info": {
      "name": "python"
    }
  },
  "cells": [
    {
      "cell_type": "markdown",
      "metadata": {
        "id": "view-in-github",
        "colab_type": "text"
      },
      "source": [
        "<a href=\"https://colab.research.google.com/github/bilal-ozgur/statistics/blob/main/Tasks_lambda_func.ipynb\" target=\"_parent\"><img src=\"https://colab.research.google.com/assets/colab-badge.svg\" alt=\"Open In Colab\"/></a>"
      ]
    },
    {
      "cell_type": "markdown",
      "source": [
        "### Task-1:\n",
        "\n",
        "**Define a lambda function to reverse the elements of any iterables.** \n",
        "\n",
        "**Use parentheses for arguments and print the result.**\n"
      ],
      "metadata": {
        "id": "sqBDNnXu_Cry"
      }
    },
    {
      "cell_type": "code",
      "execution_count": 1,
      "metadata": {
        "id": "y2yKamQw-6Os"
      },
      "outputs": [],
      "source": [
        "iterable = \"I learn Python\"\n",
        "\n",
        "reverser = lambda x : x[::-1]  # x represents iterable here"
      ]
    },
    {
      "cell_type": "code",
      "source": [
        "reverser(iterable)"
      ],
      "metadata": {
        "colab": {
          "base_uri": "https://localhost:8080/",
          "height": 35
        },
        "id": "ougtILGs_KSc",
        "outputId": "eacf1954-a76a-44c0-c593-8a56c1e62733"
      },
      "execution_count": 2,
      "outputs": [
        {
          "output_type": "execute_result",
          "data": {
            "text/plain": [
              "'nohtyP nrael I'"
            ],
            "application/vnd.google.colaboratory.intrinsic+json": {
              "type": "string"
            }
          },
          "metadata": {},
          "execution_count": 2
        }
      ]
    },
    {
      "cell_type": "code",
      "source": [
        "(lambda x : x[::-1])([1,2,3])"
      ],
      "metadata": {
        "colab": {
          "base_uri": "https://localhost:8080/"
        },
        "id": "KMMHVXwH_MQ-",
        "outputId": "38547c4e-4f62-4301-a595-9e8cb563d72b"
      },
      "execution_count": 3,
      "outputs": [
        {
          "output_type": "execute_result",
          "data": {
            "text/plain": [
              "[3, 2, 1]"
            ]
          },
          "metadata": {},
          "execution_count": 3
        }
      ]
    },
    {
      "cell_type": "markdown",
      "source": [
        "### Task-2\n",
        "\n",
        "**Write a Python program that types ‘even’ or ‘odd’ in accordance with the numbers in a list.**\n",
        "\n",
        "**Use lambda function and loop. Your code must contain no more than 2 lines.** \n",
        "\n",
        "The sample list and desired output are as follows :\n",
        "\n",
        "[1, 2, 3, 4]\n",
        "\n",
        "1 : odd<br>\n",
        "2 : even<br>\n",
        "3 : odd<br>\n",
        "4 : even"
      ],
      "metadata": {
        "id": "Mv8Fmdhl_N-Z"
      }
    },
    {
      "cell_type": "code",
      "source": [
        "(lambda x : \"odd\" if x % 2 != 0 else \"even\")(4)"
      ],
      "metadata": {
        "colab": {
          "base_uri": "https://localhost:8080/",
          "height": 35
        },
        "id": "p-Gd-x-2_WLJ",
        "outputId": "1e804419-4887-41e8-ebc0-547ff379303b"
      },
      "execution_count": 5,
      "outputs": [
        {
          "output_type": "execute_result",
          "data": {
            "text/plain": [
              "'even'"
            ],
            "application/vnd.google.colaboratory.intrinsic+json": {
              "type": "string"
            }
          },
          "metadata": {},
          "execution_count": 5
        }
      ]
    },
    {
      "cell_type": "code",
      "source": [
        "numbers = [1,2,3,4,5,6]\n",
        "\n",
        "for i in numbers:\n",
        "    print(i, \":\", (lambda x : \"odd\" if x % 2 != 0 else \"even\")(i)) "
      ],
      "metadata": {
        "colab": {
          "base_uri": "https://localhost:8080/"
        },
        "id": "iK5PdvB8BqSr",
        "outputId": "095d4456-94af-4b2f-91dc-3480d02750bb"
      },
      "execution_count": 4,
      "outputs": [
        {
          "output_type": "stream",
          "name": "stdout",
          "text": [
            "1 : odd\n",
            "2 : even\n",
            "3 : odd\n",
            "4 : even\n",
            "5 : odd\n",
            "6 : even\n"
          ]
        }
      ]
    },
    {
      "cell_type": "code",
      "source": [
        "for eleman in numbers :\n",
        "    print(eleman, \":\", (lambda x : \"odd\" if x % 2 != 0 else \"even\")(eleman))"
      ],
      "metadata": {
        "colab": {
          "base_uri": "https://localhost:8080/"
        },
        "id": "s6u4Ro7UBvDL",
        "outputId": "bfcffba4-0496-4fbf-c156-7f121980fb37"
      },
      "execution_count": 6,
      "outputs": [
        {
          "output_type": "stream",
          "name": "stdout",
          "text": [
            "1 : odd\n",
            "2 : even\n",
            "3 : odd\n",
            "4 : even\n",
            "5 : odd\n",
            "6 : even\n"
          ]
        }
      ]
    }
  ]
}